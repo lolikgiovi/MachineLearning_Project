{
  "nbformat": 4,
  "nbformat_minor": 0,
  "metadata": {
    "colab": {
      "name": "RockPaperScissors_Classifier",
      "provenance": [],
      "collapsed_sections": [
        "DEMhVsyOiGsp"
      ],
      "toc_visible": true,
      "include_colab_link": true
    },
    "kernelspec": {
      "name": "python3",
      "display_name": "Python 3"
    },
    "accelerator": "GPU"
  },
  "cells": [
    {
      "cell_type": "markdown",
      "metadata": {
        "id": "view-in-github",
        "colab_type": "text"
      },
      "source": [
        "<a href=\"https://colab.research.google.com/github/lolikgiovi/MachineLearning_Project/blob/master/RockPaperScissors_Classifier.ipynb\" target=\"_parent\"><img src=\"https://colab.research.google.com/assets/colab-badge.svg\" alt=\"Open In Colab\"/></a>"
      ]
    },
    {
      "cell_type": "markdown",
      "metadata": {
        "id": "f3OZWO6fN9f7",
        "colab_type": "text"
      },
      "source": [
        "**Rock - Paper - Scissor: Hand Gesture Classifier**\n",
        "--\n",
        "Classify an Images of Hand Gesture as Rock - Paper - or Scissors\n",
        "--\n",
        "This is my first Machine Learning project, initially as an Online Course (DICODING) assignment. The idea is to classify an Image as Rock-Paper-or-Scissors gesture. \n",
        "\n",
        "by Fashalli Giovi Bilhaq\n"
      ]
    },
    {
      "cell_type": "markdown",
      "metadata": {
        "id": "DEMhVsyOiGsp",
        "colab_type": "text"
      },
      "source": [
        "# Data Preparation"
      ]
    },
    {
      "cell_type": "code",
      "metadata": {
        "id": "m_elb-1JNrY9",
        "colab_type": "code",
        "colab": {
          "base_uri": "https://localhost:8080/",
          "height": 33
        },
        "outputId": "9e09caba-f5aa-4479-ada5-b92650849957"
      },
      "source": [
        "# Dependencies Install\n",
        "\n",
        "import tensorflow as tf\n",
        "import zipfile, os, shutil, time\n",
        "import sklearn\n",
        "from tensorflow.keras.optimizers import RMSprop\n",
        "from tensorflow.keras.preprocessing.image import ImageDataGenerator\n",
        "from tensorflow.keras.layers import Dropout\n",
        "print(\"TensorFlow Version:\", tf.__version__)"
      ],
      "execution_count": 1,
      "outputs": [
        {
          "output_type": "stream",
          "text": [
            "TensorFlow Version: 2.2.0\n"
          ],
          "name": "stdout"
        }
      ]
    },
    {
      "cell_type": "code",
      "metadata": {
        "id": "Brbef-jCJEu0",
        "colab_type": "code",
        "colab": {
          "base_uri": "https://localhost:8080/",
          "height": 201
        },
        "outputId": "6917bd7e-b0fb-45e1-a160-2a20d336d223"
      },
      "source": [
        "# Dataset Download (Zip)\n",
        "\n",
        "!wget --no-check-certificate \\\n",
        " https://dicodingacademy.blob.core.windows.net/picodiploma/ml_pemula_academy/rockpaperscissors.zip \\\n",
        "  -O /tmp/rockpaperscissors.zip"
      ],
      "execution_count": 3,
      "outputs": [
        {
          "output_type": "stream",
          "text": [
            "--2020-07-29 20:56:38--  https://dicodingacademy.blob.core.windows.net/picodiploma/ml_pemula_academy/rockpaperscissors.zip\n",
            "Resolving dicodingacademy.blob.core.windows.net (dicodingacademy.blob.core.windows.net)... 52.239.197.36\n",
            "Connecting to dicodingacademy.blob.core.windows.net (dicodingacademy.blob.core.windows.net)|52.239.197.36|:443... connected.\n",
            "HTTP request sent, awaiting response... 200 OK\n",
            "Length: 322873683 (308M) [application/zip]\n",
            "Saving to: ‘/tmp/rockpaperscissors.zip’\n",
            "\n",
            "/tmp/rockpapersciss 100%[===================>] 307.92M  5.85MB/s    in 63s     \n",
            "\n",
            "2020-07-29 20:57:43 (4.85 MB/s) - ‘/tmp/rockpaperscissors.zip’ saved [322873683/322873683]\n",
            "\n"
          ],
          "name": "stdout"
        }
      ]
    },
    {
      "cell_type": "code",
      "metadata": {
        "id": "TxOy7CD6PECL",
        "colab_type": "code",
        "colab": {
          "base_uri": "https://localhost:8080/",
          "height": 33
        },
        "outputId": "4eac6d68-c65e-408f-8df1-c3a98c0507e4"
      },
      "source": [
        "# Zip Extraction\n",
        "\n",
        "storage = '/tmp/rockpaperscissors.zip'\n",
        "zip = zipfile.ZipFile(storage, 'r')\n",
        "zip.extractall('/tmp')\n",
        "zip.close()\n",
        "print(\"Zip Extraction done\")"
      ],
      "execution_count": 6,
      "outputs": [
        {
          "output_type": "stream",
          "text": [
            "Zip Extraction done\n"
          ],
          "name": "stdout"
        }
      ]
    },
    {
      "cell_type": "code",
      "metadata": {
        "id": "7-iAfkPZmXzf",
        "colab_type": "code",
        "colab": {}
      },
      "source": [
        "## Delete Unused Files\n",
        "\n",
        "delete_dir = '/tmp/__MACOSX'\n",
        "\n",
        "try:\n",
        "    shutil.rmtree(delete_dir)\n",
        "except OSError as e:\n",
        "    print(\"Error: %s : %s\" % (delete_dir, e.strerror))"
      ],
      "execution_count": 7,
      "outputs": []
    },
    {
      "cell_type": "code",
      "metadata": {
        "id": "mMhJDsiEKD-8",
        "colab_type": "code",
        "colab": {
          "base_uri": "https://localhost:8080/",
          "height": 50
        },
        "outputId": "8280ff8f-3eec-4050-950b-a5b72a1aa335"
      },
      "source": [
        "## Check File Folders\n",
        "\n",
        "print('Folders Extracted:')\n",
        "os.listdir('/tmp/rockpaperscissors')"
      ],
      "execution_count": 8,
      "outputs": [
        {
          "output_type": "stream",
          "text": [
            "Folders Extracted:\n"
          ],
          "name": "stdout"
        },
        {
          "output_type": "execute_result",
          "data": {
            "text/plain": [
              "['rps-cv-images', 'scissors', 'rock', 'README_rpc-cv-images.txt', 'paper']"
            ]
          },
          "metadata": {
            "tags": []
          },
          "execution_count": 8
        }
      ]
    },
    {
      "cell_type": "code",
      "metadata": {
        "id": "hZmy5itWL-mm",
        "colab_type": "code",
        "colab": {
          "base_uri": "https://localhost:8080/",
          "height": 117
        },
        "outputId": "6db58dca-a5f1-4330-a633-c77afb130fd3"
      },
      "source": [
        "## Count Files Number\n",
        "\n",
        "rock_len = len(os.listdir('/tmp/rockpaperscissors/rock'))\n",
        "paper_len = len(os.listdir('/tmp/rockpaperscissors/paper'))\n",
        "scissors_len = len(os.listdir('/tmp/rockpaperscissors/scissors'))\n",
        "total_len = rock_len + paper_len + scissors_len\n",
        "\n",
        "print (\"Rock Images    : \", rock_len, \"Files\")\n",
        "print (\"Paper Images   : \", paper_len, \"Files\")\n",
        "print (\"Scissors Images: \", scissors_len, \"Files\")\n",
        "print (\"Total Images   : \", total_len, \"Files\\n\")\n",
        "print (\"Allocating 40% data of Images as Validation Data\")"
      ],
      "execution_count": 9,
      "outputs": [
        {
          "output_type": "stream",
          "text": [
            "Rock Images    :  726 Files\n",
            "Paper Images   :  712 Files\n",
            "Scissors Images:  750 Files\n",
            "Total Images   :  2188 Files\n",
            "\n",
            "Allocating 40% data of Images as Validation Data\n"
          ],
          "name": "stdout"
        }
      ]
    },
    {
      "cell_type": "code",
      "metadata": {
        "id": "iQPSniUxpfIA",
        "colab_type": "code",
        "colab": {
          "base_uri": "https://localhost:8080/",
          "height": 33
        },
        "outputId": "ba2d5d7d-b1d5-4b07-9d96-f07bf19709b7"
      },
      "source": [
        "## Set Directories Variables\n",
        "base_dir = '/tmp/rockpaperscissors'\n",
        "train_dir = os.path.join(base_dir,'train')\n",
        "val_dir = os.path.join(base_dir, 'val')\n",
        "rock_dir = os.path.join(base_dir,'rock')\n",
        "paper_dir = os.path.join(base_dir, 'paper')\n",
        "scissors_dir = os.path.join(base_dir, 'scissors')\n",
        "\n",
        "## Create Directories\n",
        "os.mkdir(train_dir)\n",
        "os.mkdir(val_dir)\n",
        "print('Training and Validation directory created')"
      ],
      "execution_count": 10,
      "outputs": [
        {
          "output_type": "stream",
          "text": [
            "Training and Validation directory created\n"
          ],
          "name": "stdout"
        }
      ]
    },
    {
      "cell_type": "code",
      "metadata": {
        "id": "AwTkizLBtjwz",
        "colab_type": "code",
        "colab": {
          "base_uri": "https://localhost:8080/",
          "height": 50
        },
        "outputId": "ec8839a9-e742-480c-9999-5d79addc58dd"
      },
      "source": [
        "## File Separation\n",
        "\n",
        "# Create Train & Val Folder\n",
        "try:\n",
        "    os.makedirs('/tmp/rockpaperscissors/train/paper')\n",
        "    os.makedirs('/tmp/rockpaperscissors/train/rock')\n",
        "    os.makedirs('/tmp/rockpaperscissors/train/scissors')\n",
        "except FileExistsError:\n",
        "    print(\"Training directory already exists\") \n",
        "\n",
        "try:\n",
        "    os.makedirs('/tmp/rockpaperscissors/val/paper')\n",
        "    os.makedirs('/tmp/rockpaperscissors/val/rock')\n",
        "    os.makedirs('/tmp/rockpaperscissors/val/scissors')\n",
        "except FileExistsError:\n",
        "    print(\"Validation directory already exists\") \n",
        "\n",
        "train_dir = os.path.join(base_dir, 'train')\n",
        "train_paper = os.path.join(base_dir, 'train/paper')\n",
        "train_rock = os.path.join(base_dir, 'train/rock')\n",
        "train_scissors = os.path.join(base_dir, 'train/scissors')\n",
        "print(\"Training directory path set\")\n",
        "\n",
        "val_dir = os.path.join(base_dir, 'val')\n",
        "val_paper  = os.path.join(base_dir, 'val/paper')\n",
        "val_rock  = os.path.join(base_dir, 'val/rock')\n",
        "val_scissors  = os.path.join(base_dir, 'val/scissors')\n",
        "print(\"Validation directory path set\")"
      ],
      "execution_count": 11,
      "outputs": [
        {
          "output_type": "stream",
          "text": [
            "Training directory path set\n",
            "Validation directory path set\n"
          ],
          "name": "stdout"
        }
      ]
    },
    {
      "cell_type": "code",
      "metadata": {
        "id": "hLe0qgWpsbsX",
        "colab_type": "code",
        "colab": {}
      },
      "source": [
        "## Data Separation\n",
        "from sklearn.model_selection import train_test_split\n",
        "\n",
        "train_rock_split, val_rock_split = train_test_split(os.listdir(rock_dir), test_size = 0.4)\n",
        "train_paper_split, val_paper_split = train_test_split(os.listdir(paper_dir), test_size = 0.4)\n",
        "train_scissors_split, val_scissors_split = train_test_split(os.listdir(scissors_dir), test_size = 0.4)"
      ],
      "execution_count": 12,
      "outputs": []
    },
    {
      "cell_type": "code",
      "metadata": {
        "id": "iVMTxHug2gVS",
        "colab_type": "code",
        "colab": {}
      },
      "source": [
        "# Move File\n",
        "\n",
        "for i in train_rock_split:\n",
        "  shutil.move(os.path.join(rock_dir, i), os.path.join(train_rock, i))\n",
        "for i in train_paper_split:\n",
        "  shutil.move(os.path.join(paper_dir,i), os.path.join(train_paper,i))\n",
        "for i in train_scissors_split:\n",
        "  shutil.move(os.path.join(scissors_dir,i), os.path.join(train_scissors,i))\n",
        "\n",
        "for i in val_rock_split:\n",
        "  shutil.move(os.path.join(rock_dir, i), os.path.join(val_rock,i))\n",
        "for i in val_paper_split:\n",
        "  shutil.move(os.path.join(paper_dir,i), os.path.join(val_paper,i))\n",
        "for i in val_scissors_split:\n",
        "  shutil.move(os.path.join(scissors_dir,i), os.path.join(val_scissors,i))"
      ],
      "execution_count": 13,
      "outputs": []
    },
    {
      "cell_type": "code",
      "metadata": {
        "id": "s8GCpjT9QQkx",
        "colab_type": "code",
        "colab": {
          "base_uri": "https://localhost:8080/",
          "height": 83
        },
        "outputId": "e06a3e88-b24c-4b76-8194-217d3142d965"
      },
      "source": [
        "train_rock_len = len(os.listdir(train_rock))\n",
        "val_rock_len = len(os.listdir(val_rock))\n",
        "train_paper_len = len(os.listdir(train_paper))\n",
        "val_paper_len = len(os.listdir(val_paper))\n",
        "train_scissors_len = len(os.listdir(train_scissors))\n",
        "val_scissors_len = len(os.listdir(val_scissors))\n",
        "\n",
        "print(train_rock_len, \"Rock Images allocated as Training Data,\",\n",
        "      val_rock_len, \"Rock Images allocated as Validation Data\")\n",
        "print(train_paper_len, \"Paper Images allocated as Training Data,\",\n",
        "      val_paper_len, \"Paper Images allocated as Validation Data\")\n",
        "print(train_scissors_len, \"Scissors Images allocated as Training Data,\",\n",
        "      val_scissors_len, \"Scissors Images allocated as Validation Data\")\n",
        "print(\"Total:\",train_rock_len+train_paper_len+train_scissors_len,\n",
        "      \"Images Allocated as Training Data,\", \n",
        "      val_rock_len+val_paper_len+val_scissors_len, \n",
        "      \"Images Allocated as Validation Data\")"
      ],
      "execution_count": 14,
      "outputs": [
        {
          "output_type": "stream",
          "text": [
            "435 Rock Images allocated as Training Data, 291 Rock Images allocated as Validation Data\n",
            "427 Paper Images allocated as Training Data, 285 Paper Images allocated as Validation Data\n",
            "450 Scissors Images allocated as Training Data, 300 Scissors Images allocated as Validation Data\n",
            "Total: 1312 Images Allocated as Training Data, 876 Images Allocated as Validation Data\n"
          ],
          "name": "stdout"
        }
      ]
    },
    {
      "cell_type": "markdown",
      "metadata": {
        "id": "0aNEaVb01z7C",
        "colab_type": "text"
      },
      "source": [
        "# Machine Learning Model Building"
      ]
    },
    {
      "cell_type": "code",
      "metadata": {
        "id": "HPj9NPZX-jRV",
        "colab_type": "code",
        "colab": {
          "base_uri": "https://localhost:8080/",
          "height": 33
        },
        "outputId": "c2488707-9782-4432-8860-3e7dcf41d81d"
      },
      "source": [
        "# Image Data Generator\n",
        "\n",
        "train_datagen = ImageDataGenerator(\n",
        "    rescale = 1./255,\n",
        "    rotation_range = 20,\n",
        "    horizontal_flip = True,\n",
        "    vertical_flip=True,\n",
        "    width_shift_range = 0.1,\n",
        "    height_shift_range = 0.1,\n",
        "    shear_range = 0.1,\n",
        "    fill_mode = 'nearest')\n",
        "\n",
        "test_datagen = ImageDataGenerator(\n",
        "    rescale = 1./255,\n",
        "    rotation_range = 20,\n",
        "    horizontal_flip = True,\n",
        "    vertical_flip=True,\n",
        "    width_shift_range = 0.1,\n",
        "    height_shift_range = 0.1,\n",
        "    shear_range = 0.1,\n",
        "    fill_mode = 'nearest')\n",
        "\n",
        "print(\"Image Data Generation: Done\")"
      ],
      "execution_count": 15,
      "outputs": [
        {
          "output_type": "stream",
          "text": [
            "Image Data Generation: Done\n"
          ],
          "name": "stdout"
        }
      ]
    },
    {
      "cell_type": "code",
      "metadata": {
        "id": "Lme6p3RD_VqG",
        "colab_type": "code",
        "colab": {
          "base_uri": "https://localhost:8080/",
          "height": 50
        },
        "outputId": "0926ff3c-634c-421e-9424-9b2e7d5355b9"
      },
      "source": [
        "train_generator = train_datagen.flow_from_directory(\n",
        "    train_dir,\n",
        "    target_size = (150,150),\n",
        "    batch_size = 32,\n",
        "    class_mode = 'categorical')\n",
        "\n",
        "validation_generator = test_datagen.flow_from_directory(\n",
        "    val_dir,\n",
        "    target_size = (150,150),\n",
        "    batch_size = 32,\n",
        "    class_mode = 'categorical')"
      ],
      "execution_count": 16,
      "outputs": [
        {
          "output_type": "stream",
          "text": [
            "Found 1312 images belonging to 3 classes.\n",
            "Found 876 images belonging to 3 classes.\n"
          ],
          "name": "stdout"
        }
      ]
    },
    {
      "cell_type": "code",
      "metadata": {
        "id": "xnvMc1kaBMsw",
        "colab_type": "code",
        "colab": {
          "base_uri": "https://localhost:8080/",
          "height": 33
        },
        "outputId": "e70777c1-691d-4446-b0ee-35d7a771c56b"
      },
      "source": [
        "# Sequential Model Building\n",
        "\n",
        "model = tf.keras.models.Sequential([\n",
        "  # tf.keras.layers.Dropout(0.2),\n",
        "  tf.keras.layers.Conv2D(16, (3,3), activation = 'swish', input_shape= (150,150,3)),\n",
        "  tf.keras.layers.MaxPooling2D(2,2),\n",
        "  tf.keras.layers.Conv2D(32,(3,3), activation = 'swish'),\n",
        "  tf.keras.layers.MaxPooling2D(2,2),\n",
        "  tf.keras.layers.Conv2D(64,(3,3), activation = 'swish'),\n",
        "  tf.keras.layers.MaxPooling2D(2,2),\n",
        "  tf.keras.layers.Conv2D(128,(3,3), activation = 'swish'),\n",
        "  tf.keras.layers.MaxPooling2D(2,2),\n",
        "  tf.keras.layers.Conv2D(256,(3,3), activation = 'swish'),\n",
        "  tf.keras.layers.MaxPooling2D(2,2),\n",
        "  tf.keras.layers.Flatten(),\n",
        "  tf.keras.layers.Dense(512, activation = 'swish'),\n",
        "  tf.keras.layers.Dense(3, activation = 'softmax')\n",
        "])\n",
        "print(\"Sequential Model Set: Done\")"
      ],
      "execution_count": 17,
      "outputs": [
        {
          "output_type": "stream",
          "text": [
            "Sequential Model Set: Done\n"
          ],
          "name": "stdout"
        }
      ]
    },
    {
      "cell_type": "code",
      "metadata": {
        "id": "uHCwRfYzyymW",
        "colab_type": "code",
        "colab": {}
      },
      "source": [
        "# Callback\n",
        "\n",
        "def lrscheduler(epoch, lr):\n",
        "  if epoch < 10:\n",
        "    return lr\n",
        "  else:\n",
        "    return lr * tf.math.exp(-0.1)\n",
        "\n",
        "Callbacks = [\n",
        "    tf.keras.callbacks.LearningRateScheduler(lrscheduler, verbose=1)\n",
        "]"
      ],
      "execution_count": 20,
      "outputs": []
    },
    {
      "cell_type": "code",
      "metadata": {
        "id": "RGGAXnqcDSGO",
        "colab_type": "code",
        "colab": {
          "base_uri": "https://localhost:8080/",
          "height": 33
        },
        "outputId": "7f03926f-bc1b-44d7-dee1-7c96c6c10aba"
      },
      "source": [
        "model.compile(loss = 'categorical_crossentropy',\n",
        "              optimizer = tf.optimizers.Adamax(learning_rate=0.001),\n",
        "              metrics=['accuracy'])\n",
        "print(\"Model Compile: Done\")"
      ],
      "execution_count": 21,
      "outputs": [
        {
          "output_type": "stream",
          "text": [
            "Model Compile: Done\n"
          ],
          "name": "stdout"
        }
      ]
    },
    {
      "cell_type": "code",
      "metadata": {
        "id": "yLgOepqvDxcl",
        "colab_type": "code",
        "colab": {
          "base_uri": "https://localhost:8080/",
          "height": 1000
        },
        "outputId": "dca1058c-b63d-4520-baa8-a2ed439c2f9d"
      },
      "source": [
        "start = time.time()\n",
        "model_fit = model.fit(train_generator,\n",
        "                      steps_per_epoch = 25,\n",
        "                      epochs = 40,\n",
        "                      validation_data = validation_generator,\n",
        "                      validation_steps = 5,\n",
        "                      verbose =2,\n",
        "                      callbacks = [Callbacks])\n",
        "stop = time.time()\n",
        "duration = (stop-start)/60"
      ],
      "execution_count": 22,
      "outputs": [
        {
          "output_type": "stream",
          "text": [
            "\n",
            "Epoch 00001: LearningRateScheduler reducing learning rate to 0.0010000000474974513.\n",
            "Epoch 1/40\n",
            "25/25 - 7s - loss: 1.0565 - accuracy: 0.4525 - val_loss: 0.9113 - val_accuracy: 0.5813 - lr: 0.0010\n",
            "\n",
            "Epoch 00002: LearningRateScheduler reducing learning rate to 0.0010000000474974513.\n",
            "Epoch 2/40\n",
            "25/25 - 7s - loss: 0.7353 - accuracy: 0.6750 - val_loss: 0.7114 - val_accuracy: 0.7750 - lr: 0.0010\n",
            "\n",
            "Epoch 00003: LearningRateScheduler reducing learning rate to 0.0010000000474974513.\n",
            "Epoch 3/40\n",
            "25/25 - 7s - loss: 0.5381 - accuracy: 0.8213 - val_loss: 0.4972 - val_accuracy: 0.8562 - lr: 0.0010\n",
            "\n",
            "Epoch 00004: LearningRateScheduler reducing learning rate to 0.0010000000474974513.\n",
            "Epoch 4/40\n",
            "25/25 - 7s - loss: 0.3953 - accuracy: 0.8675 - val_loss: 0.3781 - val_accuracy: 0.8375 - lr: 0.0010\n",
            "\n",
            "Epoch 00005: LearningRateScheduler reducing learning rate to 0.0010000000474974513.\n",
            "Epoch 5/40\n",
            "25/25 - 7s - loss: 0.2749 - accuracy: 0.9325 - val_loss: 0.3353 - val_accuracy: 0.9250 - lr: 0.0010\n",
            "\n",
            "Epoch 00006: LearningRateScheduler reducing learning rate to 0.0010000000474974513.\n",
            "Epoch 6/40\n",
            "25/25 - 7s - loss: 0.2786 - accuracy: 0.9050 - val_loss: 0.1932 - val_accuracy: 0.9438 - lr: 0.0010\n",
            "\n",
            "Epoch 00007: LearningRateScheduler reducing learning rate to 0.0010000000474974513.\n",
            "Epoch 7/40\n",
            "25/25 - 7s - loss: 0.2515 - accuracy: 0.9212 - val_loss: 0.1905 - val_accuracy: 0.9438 - lr: 0.0010\n",
            "\n",
            "Epoch 00008: LearningRateScheduler reducing learning rate to 0.0010000000474974513.\n",
            "Epoch 8/40\n",
            "25/25 - 7s - loss: 0.2064 - accuracy: 0.9300 - val_loss: 0.1753 - val_accuracy: 0.9500 - lr: 0.0010\n",
            "\n",
            "Epoch 00009: LearningRateScheduler reducing learning rate to 0.0010000000474974513.\n",
            "Epoch 9/40\n",
            "25/25 - 7s - loss: 0.1685 - accuracy: 0.9475 - val_loss: 0.1395 - val_accuracy: 0.9563 - lr: 0.0010\n",
            "\n",
            "Epoch 00010: LearningRateScheduler reducing learning rate to 0.0010000000474974513.\n",
            "Epoch 10/40\n",
            "25/25 - 7s - loss: 0.1908 - accuracy: 0.9413 - val_loss: 0.3929 - val_accuracy: 0.8938 - lr: 0.0010\n",
            "\n",
            "Epoch 00011: LearningRateScheduler reducing learning rate to tf.Tensor(0.0009048374, shape=(), dtype=float32).\n",
            "Epoch 11/40\n",
            "25/25 - 7s - loss: 0.2013 - accuracy: 0.9413 - val_loss: 0.2056 - val_accuracy: 0.9375 - lr: 9.0484e-04\n",
            "\n",
            "Epoch 00012: LearningRateScheduler reducing learning rate to tf.Tensor(0.0008187307, shape=(), dtype=float32).\n",
            "Epoch 12/40\n",
            "25/25 - 7s - loss: 0.1395 - accuracy: 0.9563 - val_loss: 0.1290 - val_accuracy: 0.9688 - lr: 8.1873e-04\n",
            "\n",
            "Epoch 00013: LearningRateScheduler reducing learning rate to tf.Tensor(0.0007408181, shape=(), dtype=float32).\n",
            "Epoch 13/40\n",
            "25/25 - 7s - loss: 0.1894 - accuracy: 0.9525 - val_loss: 0.1912 - val_accuracy: 0.9187 - lr: 7.4082e-04\n",
            "\n",
            "Epoch 00014: LearningRateScheduler reducing learning rate to tf.Tensor(0.0006703199, shape=(), dtype=float32).\n",
            "Epoch 14/40\n",
            "25/25 - 7s - loss: 0.1432 - accuracy: 0.9513 - val_loss: 0.2424 - val_accuracy: 0.9563 - lr: 6.7032e-04\n",
            "\n",
            "Epoch 00015: LearningRateScheduler reducing learning rate to tf.Tensor(0.00060653046, shape=(), dtype=float32).\n",
            "Epoch 15/40\n",
            "25/25 - 7s - loss: 0.1450 - accuracy: 0.9425 - val_loss: 0.1588 - val_accuracy: 0.9438 - lr: 6.0653e-04\n",
            "\n",
            "Epoch 00016: LearningRateScheduler reducing learning rate to tf.Tensor(0.00054881145, shape=(), dtype=float32).\n",
            "Epoch 16/40\n",
            "25/25 - 7s - loss: 0.1030 - accuracy: 0.9638 - val_loss: 0.0944 - val_accuracy: 0.9875 - lr: 5.4881e-04\n",
            "\n",
            "Epoch 00017: LearningRateScheduler reducing learning rate to tf.Tensor(0.0004965851, shape=(), dtype=float32).\n",
            "Epoch 17/40\n",
            "25/25 - 7s - loss: 0.0949 - accuracy: 0.9688 - val_loss: 0.0813 - val_accuracy: 0.9625 - lr: 4.9659e-04\n",
            "\n",
            "Epoch 00018: LearningRateScheduler reducing learning rate to tf.Tensor(0.00044932874, shape=(), dtype=float32).\n",
            "Epoch 18/40\n",
            "25/25 - 7s - loss: 0.1448 - accuracy: 0.9563 - val_loss: 0.0906 - val_accuracy: 0.9812 - lr: 4.4933e-04\n",
            "\n",
            "Epoch 00019: LearningRateScheduler reducing learning rate to tf.Tensor(0.00040656942, shape=(), dtype=float32).\n",
            "Epoch 19/40\n",
            "25/25 - 7s - loss: 0.1401 - accuracy: 0.9588 - val_loss: 0.0838 - val_accuracy: 0.9625 - lr: 4.0657e-04\n",
            "\n",
            "Epoch 00020: LearningRateScheduler reducing learning rate to tf.Tensor(0.0003678792, shape=(), dtype=float32).\n",
            "Epoch 20/40\n",
            "25/25 - 7s - loss: 0.1468 - accuracy: 0.9563 - val_loss: 0.1640 - val_accuracy: 0.9187 - lr: 3.6788e-04\n",
            "\n",
            "Epoch 00021: LearningRateScheduler reducing learning rate to tf.Tensor(0.00033287084, shape=(), dtype=float32).\n",
            "Epoch 21/40\n",
            "25/25 - 7s - loss: 0.1201 - accuracy: 0.9638 - val_loss: 0.1387 - val_accuracy: 0.9500 - lr: 3.3287e-04\n",
            "\n",
            "Epoch 00022: LearningRateScheduler reducing learning rate to tf.Tensor(0.00030119397, shape=(), dtype=float32).\n",
            "Epoch 22/40\n",
            "25/25 - 7s - loss: 0.1064 - accuracy: 0.9588 - val_loss: 0.0851 - val_accuracy: 0.9750 - lr: 3.0119e-04\n",
            "\n",
            "Epoch 00023: LearningRateScheduler reducing learning rate to tf.Tensor(0.00027253156, shape=(), dtype=float32).\n",
            "Epoch 23/40\n",
            "25/25 - 7s - loss: 0.1223 - accuracy: 0.9613 - val_loss: 0.1107 - val_accuracy: 0.9625 - lr: 2.7253e-04\n",
            "\n",
            "Epoch 00024: LearningRateScheduler reducing learning rate to tf.Tensor(0.00024659673, shape=(), dtype=float32).\n",
            "Epoch 24/40\n",
            "25/25 - 7s - loss: 0.1146 - accuracy: 0.9600 - val_loss: 0.2338 - val_accuracy: 0.9312 - lr: 2.4660e-04\n",
            "\n",
            "Epoch 00025: LearningRateScheduler reducing learning rate to tf.Tensor(0.00022312993, shape=(), dtype=float32).\n",
            "Epoch 25/40\n",
            "25/25 - 7s - loss: 0.0989 - accuracy: 0.9725 - val_loss: 0.1352 - val_accuracy: 0.9500 - lr: 2.2313e-04\n",
            "\n",
            "Epoch 00026: LearningRateScheduler reducing learning rate to tf.Tensor(0.0002018963, shape=(), dtype=float32).\n",
            "Epoch 26/40\n",
            "25/25 - 7s - loss: 0.0847 - accuracy: 0.9688 - val_loss: 0.0920 - val_accuracy: 0.9750 - lr: 2.0190e-04\n",
            "\n",
            "Epoch 00027: LearningRateScheduler reducing learning rate to tf.Tensor(0.00018268332, shape=(), dtype=float32).\n",
            "Epoch 27/40\n",
            "25/25 - 7s - loss: 0.0947 - accuracy: 0.9737 - val_loss: 0.0938 - val_accuracy: 0.9688 - lr: 1.8268e-04\n",
            "\n",
            "Epoch 00028: LearningRateScheduler reducing learning rate to tf.Tensor(0.0001652987, shape=(), dtype=float32).\n",
            "Epoch 28/40\n",
            "25/25 - 7s - loss: 0.0787 - accuracy: 0.9775 - val_loss: 0.1475 - val_accuracy: 0.9438 - lr: 1.6530e-04\n",
            "\n",
            "Epoch 00029: LearningRateScheduler reducing learning rate to tf.Tensor(0.00014956844, shape=(), dtype=float32).\n",
            "Epoch 29/40\n",
            "25/25 - 7s - loss: 0.0853 - accuracy: 0.9712 - val_loss: 0.0932 - val_accuracy: 0.9688 - lr: 1.4957e-04\n",
            "\n",
            "Epoch 00030: LearningRateScheduler reducing learning rate to tf.Tensor(0.00013533511, shape=(), dtype=float32).\n",
            "Epoch 30/40\n",
            "25/25 - 7s - loss: 0.0809 - accuracy: 0.9712 - val_loss: 0.1018 - val_accuracy: 0.9625 - lr: 1.3534e-04\n",
            "\n",
            "Epoch 00031: LearningRateScheduler reducing learning rate to tf.Tensor(0.00012245627, shape=(), dtype=float32).\n",
            "Epoch 31/40\n",
            "25/25 - 7s - loss: 0.0856 - accuracy: 0.9700 - val_loss: 0.0884 - val_accuracy: 0.9750 - lr: 1.2246e-04\n",
            "\n",
            "Epoch 00032: LearningRateScheduler reducing learning rate to tf.Tensor(0.00011080301, shape=(), dtype=float32).\n",
            "Epoch 32/40\n",
            "25/25 - 7s - loss: 0.0792 - accuracy: 0.9725 - val_loss: 0.1122 - val_accuracy: 0.9625 - lr: 1.1080e-04\n",
            "\n",
            "Epoch 00033: LearningRateScheduler reducing learning rate to tf.Tensor(0.00010025871, shape=(), dtype=float32).\n",
            "Epoch 33/40\n",
            "25/25 - 7s - loss: 0.0800 - accuracy: 0.9800 - val_loss: 0.0923 - val_accuracy: 0.9688 - lr: 1.0026e-04\n",
            "\n",
            "Epoch 00034: LearningRateScheduler reducing learning rate to tf.Tensor(9.0717826e-05, shape=(), dtype=float32).\n",
            "Epoch 34/40\n",
            "25/25 - 7s - loss: 0.0807 - accuracy: 0.9750 - val_loss: 0.0655 - val_accuracy: 0.9812 - lr: 9.0718e-05\n",
            "\n",
            "Epoch 00035: LearningRateScheduler reducing learning rate to tf.Tensor(8.208488e-05, shape=(), dtype=float32).\n",
            "Epoch 35/40\n",
            "25/25 - 7s - loss: 0.0875 - accuracy: 0.9688 - val_loss: 0.0656 - val_accuracy: 0.9750 - lr: 8.2085e-05\n",
            "\n",
            "Epoch 00036: LearningRateScheduler reducing learning rate to tf.Tensor(7.427347e-05, shape=(), dtype=float32).\n",
            "Epoch 36/40\n",
            "25/25 - 7s - loss: 0.0737 - accuracy: 0.9725 - val_loss: 0.1127 - val_accuracy: 0.9500 - lr: 7.4273e-05\n",
            "\n",
            "Epoch 00037: LearningRateScheduler reducing learning rate to tf.Tensor(6.720541e-05, shape=(), dtype=float32).\n",
            "Epoch 37/40\n",
            "25/25 - 7s - loss: 0.0705 - accuracy: 0.9700 - val_loss: 0.1684 - val_accuracy: 0.9563 - lr: 6.7205e-05\n",
            "\n",
            "Epoch 00038: LearningRateScheduler reducing learning rate to tf.Tensor(6.0809965e-05, shape=(), dtype=float32).\n",
            "Epoch 38/40\n",
            "25/25 - 7s - loss: 0.0869 - accuracy: 0.9700 - val_loss: 0.0841 - val_accuracy: 0.9750 - lr: 6.0810e-05\n",
            "\n",
            "Epoch 00039: LearningRateScheduler reducing learning rate to tf.Tensor(5.502313e-05, shape=(), dtype=float32).\n",
            "Epoch 39/40\n",
            "25/25 - 7s - loss: 0.0746 - accuracy: 0.9787 - val_loss: 0.0785 - val_accuracy: 0.9625 - lr: 5.5023e-05\n",
            "\n",
            "Epoch 00040: LearningRateScheduler reducing learning rate to tf.Tensor(4.9786984e-05, shape=(), dtype=float32).\n",
            "Epoch 40/40\n",
            "25/25 - 7s - loss: 0.0666 - accuracy: 0.9775 - val_loss: 0.0563 - val_accuracy: 0.9812 - lr: 4.9787e-05\n"
          ],
          "name": "stdout"
        }
      ]
    },
    {
      "cell_type": "markdown",
      "metadata": {
        "id": "nDTd_mJ27FvP",
        "colab_type": "text"
      },
      "source": [
        "# Model Result"
      ]
    },
    {
      "cell_type": "code",
      "metadata": {
        "id": "F-NUbMs27093",
        "colab_type": "code",
        "colab": {
          "base_uri": "https://localhost:8080/",
          "height": 563
        },
        "outputId": "36d92c8d-7cf7-4054-ff16-a1f8adecfb47"
      },
      "source": [
        "# Accuracy and Loss Rate\n",
        "\n",
        "from google.colab import files\n",
        "from keras.preprocessing import image\n",
        "import matplotlib.pyplot as plt\n",
        "import matplotlib.image as mpimg\n",
        "import matplotlib.pyplot as plt\n",
        "import matplotlib.image as mpimg\n",
        "%matplotlib inline\n",
        "\n",
        "train_accuracy = model_fit.history['accuracy']\n",
        "train_loss = model_fit.history['loss']\n",
        "val_accuracy = model_fit.history['val_accuracy']\n",
        "val_loss = model_fit.history['val_loss']\n",
        "\n",
        "epochs = range(40)\n",
        "\n",
        "print('Highest validation accuracy:', max(val_accuracy))\n",
        "print('Lowest  validation accuracy:', min(val_accuracy))\n",
        "print(\"Training time: %.2f minutes\" %duration)\n",
        "\n",
        "plt.figure(figsize=(16, 8))\n",
        "\n",
        "plt.subplot(1, 2, 1)\n",
        "plt.plot(epochs, train_accuracy, 'b', label='Training Accuracy')\n",
        "plt.plot(epochs, val_accuracy, 'r', label='Validation Accuracy')\n",
        "plt.legend(loc='lower right')\n",
        "plt.title('Model Accuracy')\n",
        "plt.ylabel('Accuracy')\n",
        "plt.xlabel('Epoch')\n",
        "\n",
        "plt.subplot(1, 2, 2)\n",
        "plt.plot(epochs, train_loss, 'b', label='Training Loss')\n",
        "plt.plot(epochs, val_loss, 'r', label='Validation Loss')\n",
        "plt.legend(loc='upper right')\n",
        "plt.title('Model Loss')\n",
        "plt.ylabel('Loss')\n",
        "plt.xlabel('Epoch')\n",
        "plt.show()"
      ],
      "execution_count": 23,
      "outputs": [
        {
          "output_type": "stream",
          "text": [
            "Highest validation accuracy: 0.987500011920929\n",
            "Lowest  validation accuracy: 0.581250011920929\n",
            "Training time: 4.90 minutes\n"
          ],
          "name": "stdout"
        },
        {
          "output_type": "display_data",
          "data": {
            "image/png": "[encoded data removed]",
            "text/plain": [
              "<Figure size 1152x576 with 2 Axes>"
            ]
          },
          "metadata": {
            "tags": [],
            "needs_background": "light"
          }
        }
      ]
    },
    {
      "cell_type": "markdown",
      "metadata": {
        "id": "_8kd9WIZ3aZA",
        "colab_type": "text"
      },
      "source": [
        "# Image Classifier Simulation"
      ]
    },
    {
      "cell_type": "code",
      "metadata": {
        "id": "x1_ZajQ8EIi1",
        "colab_type": "code",
        "colab": {
          "resources": {
            "http://localhost:8080/nbextensions/google.colab/files.js": {
              "data": "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",
              "ok": true,
              "headers": [
                [
                  "content-type",
                  "application/javascript"
                ]
              ],
              "status": 200,
              "status_text": ""
            }
          },
          "base_uri": "https://localhost:8080/",
          "height": 357
        },
        "outputId": "debabb1c-b72b-4efe-9e4e-97e29bf55c8c"
      },
      "source": [
        "import numpy as np\n",
        "from google.colab import files\n",
        "from keras.preprocessing import image\n",
        "import matplotlib.pyplot as plt\n",
        "import matplotlib.image as mpimg\n",
        "import matplotlib.pyplot as plt\n",
        "import matplotlib.image as mpimg\n",
        "%matplotlib inline\n",
        "\n",
        "uploaded = files.upload()\n",
        "\n",
        "for fn in uploaded.keys():\n",
        "\n",
        "  path = fn \n",
        "  img = image.load_img(path, target_size =(150,150))\n",
        "  imgplot = plt.imshow(img)\n",
        "  x = image.img_to_array(img)\n",
        "  x = np.expand_dims(x, axis=0)\n",
        "\n",
        "  images = np.vstack([x])\n",
        "  classes = model.predict(images, batch_size=10)\n",
        "\n",
        "  print(fn)\n",
        "  if classes[0,0]!=0:\n",
        "    print('Paper')\n",
        "  elif classes[0,1]!=0:\n",
        "    print('Rock')\n",
        "  else:\n",
        "    print('Scissors')"
      ],
      "execution_count": 25,
      "outputs": [
        {
          "output_type": "display_data",
          "data": {
            "text/html": [
              "\n",
              "     <input type=\"file\" id=\"files-caa53533-847e-4afa-b58d-07fc01df93a8\" name=\"files[]\" multiple disabled\n",
              "        style=\"border:none\" />\n",
              "     <output id=\"result-caa53533-847e-4afa-b58d-07fc01df93a8\">\n",
              "      Upload widget is only available when the cell has been executed in the\n",
              "      current browser session. Please rerun this cell to enable.\n",
              "      </output>\n",
              "      <script src=\"/nbextensions/google.colab/files.js\"></script> "
            ],
            "text/plain": [
              "<IPython.core.display.HTML object>"
            ]
          },
          "metadata": {
            "tags": []
          }
        },
        {
          "output_type": "stream",
          "text": [
            "Saving 0cb6cVL8pkfi4wF6.png to 0cb6cVL8pkfi4wF6.png\n",
            "0cb6cVL8pkfi4wF6.png\n",
            "Paper\n"
          ],
          "name": "stdout"
        },
        {
          "output_type": "display_data",
          "data": {
            "image/png": "[encoded data removed]",
            "text/plain": [
              "<Figure size 432x288 with 1 Axes>"
            ]
          },
          "metadata": {
            "tags": [],
            "needs_background": "light"
          }
        }
      ]
    }
  ]
}